{
  "nbformat": 4,
  "nbformat_minor": 0,
  "metadata": {
    "colab": {
      "name": "Lab7.ipynb",
      "provenance": [],
      "authorship_tag": "ABX9TyPc2mIERWk3J4emGvQYS4hw",
      "include_colab_link": true
    },
    "kernelspec": {
      "name": "python3",
      "display_name": "Python 3"
    }
  },
  "cells": [
    {
      "cell_type": "markdown",
      "metadata": {
        "id": "view-in-github",
        "colab_type": "text"
      },
      "source": [
        "<a href=\"https://colab.research.google.com/github/Vishalbauri/DMDWLAB/blob/main/Lab7.ipynb\" target=\"_parent\"><img src=\"https://colab.research.google.com/assets/colab-badge.svg\" alt=\"Open In Colab\"/></a>"
      ]
    },
    {
      "cell_type": "code",
      "metadata": {
        "id": "mv8KEurNTykx"
      },
      "source": [
        "import pandas as pd\n",
        "import numpy as np"
      ],
      "execution_count": 1,
      "outputs": []
    },
    {
      "cell_type": "code",
      "metadata": {
        "id": "-1rkA0VAT6p-"
      },
      "source": [
        "dataset = pd.read_csv('https://raw.githubusercontent.com/GouriNayak/DMDW/main/iris.csv')"
      ],
      "execution_count": 2,
      "outputs": []
    },
    {
      "cell_type": "code",
      "metadata": {
        "colab": {
          "base_uri": "https://localhost:8080/",
          "height": 419
        },
        "id": "QaUb1p3QUJSl",
        "outputId": "5b246877-a1be-49f4-e07a-a361ec516fab"
      },
      "source": [
        "dataset"
      ],
      "execution_count": 3,
      "outputs": [
        {
          "output_type": "execute_result",
          "data": {
            "text/html": [
              "<div>\n",
              "<style scoped>\n",
              "    .dataframe tbody tr th:only-of-type {\n",
              "        vertical-align: middle;\n",
              "    }\n",
              "\n",
              "    .dataframe tbody tr th {\n",
              "        vertical-align: top;\n",
              "    }\n",
              "\n",
              "    .dataframe thead th {\n",
              "        text-align: right;\n",
              "    }\n",
              "</style>\n",
              "<table border=\"1\" class=\"dataframe\">\n",
              "  <thead>\n",
              "    <tr style=\"text-align: right;\">\n",
              "      <th></th>\n",
              "      <th>sepal_length</th>\n",
              "      <th>sepal_width</th>\n",
              "      <th>petal_length</th>\n",
              "      <th>petal_width</th>\n",
              "      <th>species</th>\n",
              "    </tr>\n",
              "  </thead>\n",
              "  <tbody>\n",
              "    <tr>\n",
              "      <th>0</th>\n",
              "      <td>5.1</td>\n",
              "      <td>3.5</td>\n",
              "      <td>1.4</td>\n",
              "      <td>0.2</td>\n",
              "      <td>setosa</td>\n",
              "    </tr>\n",
              "    <tr>\n",
              "      <th>1</th>\n",
              "      <td>4.9</td>\n",
              "      <td>3.0</td>\n",
              "      <td>1.4</td>\n",
              "      <td>0.2</td>\n",
              "      <td>setosa</td>\n",
              "    </tr>\n",
              "    <tr>\n",
              "      <th>2</th>\n",
              "      <td>4.7</td>\n",
              "      <td>3.2</td>\n",
              "      <td>1.3</td>\n",
              "      <td>0.2</td>\n",
              "      <td>setosa</td>\n",
              "    </tr>\n",
              "    <tr>\n",
              "      <th>3</th>\n",
              "      <td>4.6</td>\n",
              "      <td>3.1</td>\n",
              "      <td>1.5</td>\n",
              "      <td>0.2</td>\n",
              "      <td>setosa</td>\n",
              "    </tr>\n",
              "    <tr>\n",
              "      <th>4</th>\n",
              "      <td>5.0</td>\n",
              "      <td>3.6</td>\n",
              "      <td>1.4</td>\n",
              "      <td>0.2</td>\n",
              "      <td>setosa</td>\n",
              "    </tr>\n",
              "    <tr>\n",
              "      <th>...</th>\n",
              "      <td>...</td>\n",
              "      <td>...</td>\n",
              "      <td>...</td>\n",
              "      <td>...</td>\n",
              "      <td>...</td>\n",
              "    </tr>\n",
              "    <tr>\n",
              "      <th>145</th>\n",
              "      <td>6.7</td>\n",
              "      <td>3.0</td>\n",
              "      <td>5.2</td>\n",
              "      <td>2.3</td>\n",
              "      <td>virginica</td>\n",
              "    </tr>\n",
              "    <tr>\n",
              "      <th>146</th>\n",
              "      <td>6.3</td>\n",
              "      <td>2.5</td>\n",
              "      <td>5.0</td>\n",
              "      <td>1.9</td>\n",
              "      <td>virginica</td>\n",
              "    </tr>\n",
              "    <tr>\n",
              "      <th>147</th>\n",
              "      <td>6.5</td>\n",
              "      <td>3.0</td>\n",
              "      <td>5.2</td>\n",
              "      <td>2.0</td>\n",
              "      <td>virginica</td>\n",
              "    </tr>\n",
              "    <tr>\n",
              "      <th>148</th>\n",
              "      <td>6.2</td>\n",
              "      <td>3.4</td>\n",
              "      <td>5.4</td>\n",
              "      <td>2.3</td>\n",
              "      <td>virginica</td>\n",
              "    </tr>\n",
              "    <tr>\n",
              "      <th>149</th>\n",
              "      <td>5.9</td>\n",
              "      <td>3.0</td>\n",
              "      <td>5.1</td>\n",
              "      <td>1.8</td>\n",
              "      <td>virginica</td>\n",
              "    </tr>\n",
              "  </tbody>\n",
              "</table>\n",
              "<p>150 rows × 5 columns</p>\n",
              "</div>"
            ],
            "text/plain": [
              "     sepal_length  sepal_width  petal_length  petal_width    species\n",
              "0             5.1          3.5           1.4          0.2     setosa\n",
              "1             4.9          3.0           1.4          0.2     setosa\n",
              "2             4.7          3.2           1.3          0.2     setosa\n",
              "3             4.6          3.1           1.5          0.2     setosa\n",
              "4             5.0          3.6           1.4          0.2     setosa\n",
              "..            ...          ...           ...          ...        ...\n",
              "145           6.7          3.0           5.2          2.3  virginica\n",
              "146           6.3          2.5           5.0          1.9  virginica\n",
              "147           6.5          3.0           5.2          2.0  virginica\n",
              "148           6.2          3.4           5.4          2.3  virginica\n",
              "149           5.9          3.0           5.1          1.8  virginica\n",
              "\n",
              "[150 rows x 5 columns]"
            ]
          },
          "metadata": {
            "tags": []
          },
          "execution_count": 3
        }
      ]
    },
    {
      "cell_type": "code",
      "metadata": {
        "colab": {
          "base_uri": "https://localhost:8080/",
          "height": 419
        },
        "id": "SK6i6kybUKr2",
        "outputId": "8ac0422c-ee3d-4496-da3f-c60e31ae3724"
      },
      "source": [
        "dataset.iloc[:,1:5]"
      ],
      "execution_count": 4,
      "outputs": [
        {
          "output_type": "execute_result",
          "data": {
            "text/html": [
              "<div>\n",
              "<style scoped>\n",
              "    .dataframe tbody tr th:only-of-type {\n",
              "        vertical-align: middle;\n",
              "    }\n",
              "\n",
              "    .dataframe tbody tr th {\n",
              "        vertical-align: top;\n",
              "    }\n",
              "\n",
              "    .dataframe thead th {\n",
              "        text-align: right;\n",
              "    }\n",
              "</style>\n",
              "<table border=\"1\" class=\"dataframe\">\n",
              "  <thead>\n",
              "    <tr style=\"text-align: right;\">\n",
              "      <th></th>\n",
              "      <th>sepal_width</th>\n",
              "      <th>petal_length</th>\n",
              "      <th>petal_width</th>\n",
              "      <th>species</th>\n",
              "    </tr>\n",
              "  </thead>\n",
              "  <tbody>\n",
              "    <tr>\n",
              "      <th>0</th>\n",
              "      <td>3.5</td>\n",
              "      <td>1.4</td>\n",
              "      <td>0.2</td>\n",
              "      <td>setosa</td>\n",
              "    </tr>\n",
              "    <tr>\n",
              "      <th>1</th>\n",
              "      <td>3.0</td>\n",
              "      <td>1.4</td>\n",
              "      <td>0.2</td>\n",
              "      <td>setosa</td>\n",
              "    </tr>\n",
              "    <tr>\n",
              "      <th>2</th>\n",
              "      <td>3.2</td>\n",
              "      <td>1.3</td>\n",
              "      <td>0.2</td>\n",
              "      <td>setosa</td>\n",
              "    </tr>\n",
              "    <tr>\n",
              "      <th>3</th>\n",
              "      <td>3.1</td>\n",
              "      <td>1.5</td>\n",
              "      <td>0.2</td>\n",
              "      <td>setosa</td>\n",
              "    </tr>\n",
              "    <tr>\n",
              "      <th>4</th>\n",
              "      <td>3.6</td>\n",
              "      <td>1.4</td>\n",
              "      <td>0.2</td>\n",
              "      <td>setosa</td>\n",
              "    </tr>\n",
              "    <tr>\n",
              "      <th>...</th>\n",
              "      <td>...</td>\n",
              "      <td>...</td>\n",
              "      <td>...</td>\n",
              "      <td>...</td>\n",
              "    </tr>\n",
              "    <tr>\n",
              "      <th>145</th>\n",
              "      <td>3.0</td>\n",
              "      <td>5.2</td>\n",
              "      <td>2.3</td>\n",
              "      <td>virginica</td>\n",
              "    </tr>\n",
              "    <tr>\n",
              "      <th>146</th>\n",
              "      <td>2.5</td>\n",
              "      <td>5.0</td>\n",
              "      <td>1.9</td>\n",
              "      <td>virginica</td>\n",
              "    </tr>\n",
              "    <tr>\n",
              "      <th>147</th>\n",
              "      <td>3.0</td>\n",
              "      <td>5.2</td>\n",
              "      <td>2.0</td>\n",
              "      <td>virginica</td>\n",
              "    </tr>\n",
              "    <tr>\n",
              "      <th>148</th>\n",
              "      <td>3.4</td>\n",
              "      <td>5.4</td>\n",
              "      <td>2.3</td>\n",
              "      <td>virginica</td>\n",
              "    </tr>\n",
              "    <tr>\n",
              "      <th>149</th>\n",
              "      <td>3.0</td>\n",
              "      <td>5.1</td>\n",
              "      <td>1.8</td>\n",
              "      <td>virginica</td>\n",
              "    </tr>\n",
              "  </tbody>\n",
              "</table>\n",
              "<p>150 rows × 4 columns</p>\n",
              "</div>"
            ],
            "text/plain": [
              "     sepal_width  petal_length  petal_width    species\n",
              "0            3.5           1.4          0.2     setosa\n",
              "1            3.0           1.4          0.2     setosa\n",
              "2            3.2           1.3          0.2     setosa\n",
              "3            3.1           1.5          0.2     setosa\n",
              "4            3.6           1.4          0.2     setosa\n",
              "..           ...           ...          ...        ...\n",
              "145          3.0           5.2          2.3  virginica\n",
              "146          2.5           5.0          1.9  virginica\n",
              "147          3.0           5.2          2.0  virginica\n",
              "148          3.4           5.4          2.3  virginica\n",
              "149          3.0           5.1          1.8  virginica\n",
              "\n",
              "[150 rows x 4 columns]"
            ]
          },
          "metadata": {
            "tags": []
          },
          "execution_count": 4
        }
      ]
    },
    {
      "cell_type": "code",
      "metadata": {
        "colab": {
          "base_uri": "https://localhost:8080/"
        },
        "id": "LXuA-oGxUMQk",
        "outputId": "1a0ac5fb-c44b-4a78-a1dc-12bdc7b43c76"
      },
      "source": [
        "dataset.iloc[:,1:4].values"
      ],
      "execution_count": 5,
      "outputs": [
        {
          "output_type": "execute_result",
          "data": {
            "text/plain": [
              "array([[3.5, 1.4, 0.2],\n",
              "       [3. , 1.4, 0.2],\n",
              "       [3.2, 1.3, 0.2],\n",
              "       [3.1, 1.5, 0.2],\n",
              "       [3.6, 1.4, 0.2],\n",
              "       [3.9, 1.7, 0.4],\n",
              "       [3.4, 1.4, 0.3],\n",
              "       [3.4, 1.5, 0.2],\n",
              "       [2.9, 1.4, 0.2],\n",
              "       [3.1, 1.5, 0.1],\n",
              "       [3.7, 1.5, 0.2],\n",
              "       [3.4, 1.6, 0.2],\n",
              "       [3. , 1.4, 0.1],\n",
              "       [3. , 1.1, 0.1],\n",
              "       [4. , 1.2, 0.2],\n",
              "       [4.4, 1.5, 0.4],\n",
              "       [3.9, 1.3, 0.4],\n",
              "       [3.5, 1.4, 0.3],\n",
              "       [3.8, 1.7, 0.3],\n",
              "       [3.8, 1.5, 0.3],\n",
              "       [3.4, 1.7, 0.2],\n",
              "       [3.7, 1.5, 0.4],\n",
              "       [3.6, 1. , 0.2],\n",
              "       [3.3, 1.7, 0.5],\n",
              "       [3.4, 1.9, 0.2],\n",
              "       [3. , 1.6, 0.2],\n",
              "       [3.4, 1.6, 0.4],\n",
              "       [3.5, 1.5, 0.2],\n",
              "       [3.4, 1.4, 0.2],\n",
              "       [3.2, 1.6, 0.2],\n",
              "       [3.1, 1.6, 0.2],\n",
              "       [3.4, 1.5, 0.4],\n",
              "       [4.1, 1.5, 0.1],\n",
              "       [4.2, 1.4, 0.2],\n",
              "       [3.1, 1.5, 0.2],\n",
              "       [3.2, 1.2, 0.2],\n",
              "       [3.5, 1.3, 0.2],\n",
              "       [3.6, 1.4, 0.1],\n",
              "       [3. , 1.3, 0.2],\n",
              "       [3.4, 1.5, 0.2],\n",
              "       [3.5, 1.3, 0.3],\n",
              "       [2.3, 1.3, 0.3],\n",
              "       [3.2, 1.3, 0.2],\n",
              "       [3.5, 1.6, 0.6],\n",
              "       [3.8, 1.9, 0.4],\n",
              "       [3. , 1.4, 0.3],\n",
              "       [3.8, 1.6, 0.2],\n",
              "       [3.2, 1.4, 0.2],\n",
              "       [3.7, 1.5, 0.2],\n",
              "       [3.3, 1.4, 0.2],\n",
              "       [3.2, 4.7, 1.4],\n",
              "       [3.2, 4.5, 1.5],\n",
              "       [3.1, 4.9, 1.5],\n",
              "       [2.3, 4. , 1.3],\n",
              "       [2.8, 4.6, 1.5],\n",
              "       [2.8, 4.5, 1.3],\n",
              "       [3.3, 4.7, 1.6],\n",
              "       [2.4, 3.3, 1. ],\n",
              "       [2.9, 4.6, 1.3],\n",
              "       [2.7, 3.9, 1.4],\n",
              "       [2. , 3.5, 1. ],\n",
              "       [3. , 4.2, 1.5],\n",
              "       [2.2, 4. , 1. ],\n",
              "       [2.9, 4.7, 1.4],\n",
              "       [2.9, 3.6, 1.3],\n",
              "       [3.1, 4.4, 1.4],\n",
              "       [3. , 4.5, 1.5],\n",
              "       [2.7, 4.1, 1. ],\n",
              "       [2.2, 4.5, 1.5],\n",
              "       [2.5, 3.9, 1.1],\n",
              "       [3.2, 4.8, 1.8],\n",
              "       [2.8, 4. , 1.3],\n",
              "       [2.5, 4.9, 1.5],\n",
              "       [2.8, 4.7, 1.2],\n",
              "       [2.9, 4.3, 1.3],\n",
              "       [3. , 4.4, 1.4],\n",
              "       [2.8, 4.8, 1.4],\n",
              "       [3. , 5. , 1.7],\n",
              "       [2.9, 4.5, 1.5],\n",
              "       [2.6, 3.5, 1. ],\n",
              "       [2.4, 3.8, 1.1],\n",
              "       [2.4, 3.7, 1. ],\n",
              "       [2.7, 3.9, 1.2],\n",
              "       [2.7, 5.1, 1.6],\n",
              "       [3. , 4.5, 1.5],\n",
              "       [3.4, 4.5, 1.6],\n",
              "       [3.1, 4.7, 1.5],\n",
              "       [2.3, 4.4, 1.3],\n",
              "       [3. , 4.1, 1.3],\n",
              "       [2.5, 4. , 1.3],\n",
              "       [2.6, 4.4, 1.2],\n",
              "       [3. , 4.6, 1.4],\n",
              "       [2.6, 4. , 1.2],\n",
              "       [2.3, 3.3, 1. ],\n",
              "       [2.7, 4.2, 1.3],\n",
              "       [3. , 4.2, 1.2],\n",
              "       [2.9, 4.2, 1.3],\n",
              "       [2.9, 4.3, 1.3],\n",
              "       [2.5, 3. , 1.1],\n",
              "       [2.8, 4.1, 1.3],\n",
              "       [3.3, 6. , 2.5],\n",
              "       [2.7, 5.1, 1.9],\n",
              "       [3. , 5.9, 2.1],\n",
              "       [2.9, 5.6, 1.8],\n",
              "       [3. , 5.8, 2.2],\n",
              "       [3. , 6.6, 2.1],\n",
              "       [2.5, 4.5, 1.7],\n",
              "       [2.9, 6.3, 1.8],\n",
              "       [2.5, 5.8, 1.8],\n",
              "       [3.6, 6.1, 2.5],\n",
              "       [3.2, 5.1, 2. ],\n",
              "       [2.7, 5.3, 1.9],\n",
              "       [3. , 5.5, 2.1],\n",
              "       [2.5, 5. , 2. ],\n",
              "       [2.8, 5.1, 2.4],\n",
              "       [3.2, 5.3, 2.3],\n",
              "       [3. , 5.5, 1.8],\n",
              "       [3.8, 6.7, 2.2],\n",
              "       [2.6, 6.9, 2.3],\n",
              "       [2.2, 5. , 1.5],\n",
              "       [3.2, 5.7, 2.3],\n",
              "       [2.8, 4.9, 2. ],\n",
              "       [2.8, 6.7, 2. ],\n",
              "       [2.7, 4.9, 1.8],\n",
              "       [3.3, 5.7, 2.1],\n",
              "       [3.2, 6. , 1.8],\n",
              "       [2.8, 4.8, 1.8],\n",
              "       [3. , 4.9, 1.8],\n",
              "       [2.8, 5.6, 2.1],\n",
              "       [3. , 5.8, 1.6],\n",
              "       [2.8, 6.1, 1.9],\n",
              "       [3.8, 6.4, 2. ],\n",
              "       [2.8, 5.6, 2.2],\n",
              "       [2.8, 5.1, 1.5],\n",
              "       [2.6, 5.6, 1.4],\n",
              "       [3. , 6.1, 2.3],\n",
              "       [3.4, 5.6, 2.4],\n",
              "       [3.1, 5.5, 1.8],\n",
              "       [3. , 4.8, 1.8],\n",
              "       [3.1, 5.4, 2.1],\n",
              "       [3.1, 5.6, 2.4],\n",
              "       [3.1, 5.1, 2.3],\n",
              "       [2.7, 5.1, 1.9],\n",
              "       [3.2, 5.9, 2.3],\n",
              "       [3.3, 5.7, 2.5],\n",
              "       [3. , 5.2, 2.3],\n",
              "       [2.5, 5. , 1.9],\n",
              "       [3. , 5.2, 2. ],\n",
              "       [3.4, 5.4, 2.3],\n",
              "       [3. , 5.1, 1.8]])"
            ]
          },
          "metadata": {
            "tags": []
          },
          "execution_count": 5
        }
      ]
    },
    {
      "cell_type": "code",
      "metadata": {
        "id": "1_GcsLBRUN5A"
      },
      "source": [
        "x=dataset.iloc[:,1:4].values"
      ],
      "execution_count": 6,
      "outputs": []
    },
    {
      "cell_type": "code",
      "metadata": {
        "id": "IL3IqAe9UQW2"
      },
      "source": [
        "y=dataset.iloc[:,-1].values"
      ],
      "execution_count": 7,
      "outputs": []
    },
    {
      "cell_type": "code",
      "metadata": {
        "colab": {
          "base_uri": "https://localhost:8080/"
        },
        "id": "t7BzI78_UR9_",
        "outputId": "674eb062-9d95-4f1a-c03d-f03458abec90"
      },
      "source": [
        "y"
      ],
      "execution_count": 8,
      "outputs": [
        {
          "output_type": "execute_result",
          "data": {
            "text/plain": [
              "array(['setosa', 'setosa', 'setosa', 'setosa', 'setosa', 'setosa',\n",
              "       'setosa', 'setosa', 'setosa', 'setosa', 'setosa', 'setosa',\n",
              "       'setosa', 'setosa', 'setosa', 'setosa', 'setosa', 'setosa',\n",
              "       'setosa', 'setosa', 'setosa', 'setosa', 'setosa', 'setosa',\n",
              "       'setosa', 'setosa', 'setosa', 'setosa', 'setosa', 'setosa',\n",
              "       'setosa', 'setosa', 'setosa', 'setosa', 'setosa', 'setosa',\n",
              "       'setosa', 'setosa', 'setosa', 'setosa', 'setosa', 'setosa',\n",
              "       'setosa', 'setosa', 'setosa', 'setosa', 'setosa', 'setosa',\n",
              "       'setosa', 'setosa', 'versicolor', 'versicolor', 'versicolor',\n",
              "       'versicolor', 'versicolor', 'versicolor', 'versicolor',\n",
              "       'versicolor', 'versicolor', 'versicolor', 'versicolor',\n",
              "       'versicolor', 'versicolor', 'versicolor', 'versicolor',\n",
              "       'versicolor', 'versicolor', 'versicolor', 'versicolor',\n",
              "       'versicolor', 'versicolor', 'versicolor', 'versicolor',\n",
              "       'versicolor', 'versicolor', 'versicolor', 'versicolor',\n",
              "       'versicolor', 'versicolor', 'versicolor', 'versicolor',\n",
              "       'versicolor', 'versicolor', 'versicolor', 'versicolor',\n",
              "       'versicolor', 'versicolor', 'versicolor', 'versicolor',\n",
              "       'versicolor', 'versicolor', 'versicolor', 'versicolor',\n",
              "       'versicolor', 'versicolor', 'versicolor', 'versicolor',\n",
              "       'versicolor', 'versicolor', 'versicolor', 'virginica', 'virginica',\n",
              "       'virginica', 'virginica', 'virginica', 'virginica', 'virginica',\n",
              "       'virginica', 'virginica', 'virginica', 'virginica', 'virginica',\n",
              "       'virginica', 'virginica', 'virginica', 'virginica', 'virginica',\n",
              "       'virginica', 'virginica', 'virginica', 'virginica', 'virginica',\n",
              "       'virginica', 'virginica', 'virginica', 'virginica', 'virginica',\n",
              "       'virginica', 'virginica', 'virginica', 'virginica', 'virginica',\n",
              "       'virginica', 'virginica', 'virginica', 'virginica', 'virginica',\n",
              "       'virginica', 'virginica', 'virginica', 'virginica', 'virginica',\n",
              "       'virginica', 'virginica', 'virginica', 'virginica', 'virginica',\n",
              "       'virginica', 'virginica', 'virginica'], dtype=object)"
            ]
          },
          "metadata": {
            "tags": []
          },
          "execution_count": 8
        }
      ]
    },
    {
      "cell_type": "code",
      "metadata": {
        "id": "GnftKaz7UTO8"
      },
      "source": [
        "\n",
        "from sklearn.preprocessing import LabelEncoder\n",
        "LabelEncoder_y = LabelEncoder()\n",
        "y = LabelEncoder_y.fit_transform(y)"
      ],
      "execution_count": 9,
      "outputs": []
    },
    {
      "cell_type": "code",
      "metadata": {
        "colab": {
          "base_uri": "https://localhost:8080/"
        },
        "id": "B6H0VkBVUVDj",
        "outputId": "63211d17-0cde-40c1-86c2-8cd21bda556e"
      },
      "source": [
        "y\n"
      ],
      "execution_count": 10,
      "outputs": [
        {
          "output_type": "execute_result",
          "data": {
            "text/plain": [
              "array([0, 0, 0, 0, 0, 0, 0, 0, 0, 0, 0, 0, 0, 0, 0, 0, 0, 0, 0, 0, 0, 0,\n",
              "       0, 0, 0, 0, 0, 0, 0, 0, 0, 0, 0, 0, 0, 0, 0, 0, 0, 0, 0, 0, 0, 0,\n",
              "       0, 0, 0, 0, 0, 0, 1, 1, 1, 1, 1, 1, 1, 1, 1, 1, 1, 1, 1, 1, 1, 1,\n",
              "       1, 1, 1, 1, 1, 1, 1, 1, 1, 1, 1, 1, 1, 1, 1, 1, 1, 1, 1, 1, 1, 1,\n",
              "       1, 1, 1, 1, 1, 1, 1, 1, 1, 1, 1, 1, 2, 2, 2, 2, 2, 2, 2, 2, 2, 2,\n",
              "       2, 2, 2, 2, 2, 2, 2, 2, 2, 2, 2, 2, 2, 2, 2, 2, 2, 2, 2, 2, 2, 2,\n",
              "       2, 2, 2, 2, 2, 2, 2, 2, 2, 2, 2, 2, 2, 2, 2, 2, 2, 2])"
            ]
          },
          "metadata": {
            "tags": []
          },
          "execution_count": 10
        }
      ]
    },
    {
      "cell_type": "code",
      "metadata": {
        "colab": {
          "base_uri": "https://localhost:8080/"
        },
        "id": "wBqrF5C0UWgD",
        "outputId": "5ccecc94-81e8-4210-ead5-ef60d5fcd85b"
      },
      "source": [
        "x"
      ],
      "execution_count": 11,
      "outputs": [
        {
          "output_type": "execute_result",
          "data": {
            "text/plain": [
              "array([[3.5, 1.4, 0.2],\n",
              "       [3. , 1.4, 0.2],\n",
              "       [3.2, 1.3, 0.2],\n",
              "       [3.1, 1.5, 0.2],\n",
              "       [3.6, 1.4, 0.2],\n",
              "       [3.9, 1.7, 0.4],\n",
              "       [3.4, 1.4, 0.3],\n",
              "       [3.4, 1.5, 0.2],\n",
              "       [2.9, 1.4, 0.2],\n",
              "       [3.1, 1.5, 0.1],\n",
              "       [3.7, 1.5, 0.2],\n",
              "       [3.4, 1.6, 0.2],\n",
              "       [3. , 1.4, 0.1],\n",
              "       [3. , 1.1, 0.1],\n",
              "       [4. , 1.2, 0.2],\n",
              "       [4.4, 1.5, 0.4],\n",
              "       [3.9, 1.3, 0.4],\n",
              "       [3.5, 1.4, 0.3],\n",
              "       [3.8, 1.7, 0.3],\n",
              "       [3.8, 1.5, 0.3],\n",
              "       [3.4, 1.7, 0.2],\n",
              "       [3.7, 1.5, 0.4],\n",
              "       [3.6, 1. , 0.2],\n",
              "       [3.3, 1.7, 0.5],\n",
              "       [3.4, 1.9, 0.2],\n",
              "       [3. , 1.6, 0.2],\n",
              "       [3.4, 1.6, 0.4],\n",
              "       [3.5, 1.5, 0.2],\n",
              "       [3.4, 1.4, 0.2],\n",
              "       [3.2, 1.6, 0.2],\n",
              "       [3.1, 1.6, 0.2],\n",
              "       [3.4, 1.5, 0.4],\n",
              "       [4.1, 1.5, 0.1],\n",
              "       [4.2, 1.4, 0.2],\n",
              "       [3.1, 1.5, 0.2],\n",
              "       [3.2, 1.2, 0.2],\n",
              "       [3.5, 1.3, 0.2],\n",
              "       [3.6, 1.4, 0.1],\n",
              "       [3. , 1.3, 0.2],\n",
              "       [3.4, 1.5, 0.2],\n",
              "       [3.5, 1.3, 0.3],\n",
              "       [2.3, 1.3, 0.3],\n",
              "       [3.2, 1.3, 0.2],\n",
              "       [3.5, 1.6, 0.6],\n",
              "       [3.8, 1.9, 0.4],\n",
              "       [3. , 1.4, 0.3],\n",
              "       [3.8, 1.6, 0.2],\n",
              "       [3.2, 1.4, 0.2],\n",
              "       [3.7, 1.5, 0.2],\n",
              "       [3.3, 1.4, 0.2],\n",
              "       [3.2, 4.7, 1.4],\n",
              "       [3.2, 4.5, 1.5],\n",
              "       [3.1, 4.9, 1.5],\n",
              "       [2.3, 4. , 1.3],\n",
              "       [2.8, 4.6, 1.5],\n",
              "       [2.8, 4.5, 1.3],\n",
              "       [3.3, 4.7, 1.6],\n",
              "       [2.4, 3.3, 1. ],\n",
              "       [2.9, 4.6, 1.3],\n",
              "       [2.7, 3.9, 1.4],\n",
              "       [2. , 3.5, 1. ],\n",
              "       [3. , 4.2, 1.5],\n",
              "       [2.2, 4. , 1. ],\n",
              "       [2.9, 4.7, 1.4],\n",
              "       [2.9, 3.6, 1.3],\n",
              "       [3.1, 4.4, 1.4],\n",
              "       [3. , 4.5, 1.5],\n",
              "       [2.7, 4.1, 1. ],\n",
              "       [2.2, 4.5, 1.5],\n",
              "       [2.5, 3.9, 1.1],\n",
              "       [3.2, 4.8, 1.8],\n",
              "       [2.8, 4. , 1.3],\n",
              "       [2.5, 4.9, 1.5],\n",
              "       [2.8, 4.7, 1.2],\n",
              "       [2.9, 4.3, 1.3],\n",
              "       [3. , 4.4, 1.4],\n",
              "       [2.8, 4.8, 1.4],\n",
              "       [3. , 5. , 1.7],\n",
              "       [2.9, 4.5, 1.5],\n",
              "       [2.6, 3.5, 1. ],\n",
              "       [2.4, 3.8, 1.1],\n",
              "       [2.4, 3.7, 1. ],\n",
              "       [2.7, 3.9, 1.2],\n",
              "       [2.7, 5.1, 1.6],\n",
              "       [3. , 4.5, 1.5],\n",
              "       [3.4, 4.5, 1.6],\n",
              "       [3.1, 4.7, 1.5],\n",
              "       [2.3, 4.4, 1.3],\n",
              "       [3. , 4.1, 1.3],\n",
              "       [2.5, 4. , 1.3],\n",
              "       [2.6, 4.4, 1.2],\n",
              "       [3. , 4.6, 1.4],\n",
              "       [2.6, 4. , 1.2],\n",
              "       [2.3, 3.3, 1. ],\n",
              "       [2.7, 4.2, 1.3],\n",
              "       [3. , 4.2, 1.2],\n",
              "       [2.9, 4.2, 1.3],\n",
              "       [2.9, 4.3, 1.3],\n",
              "       [2.5, 3. , 1.1],\n",
              "       [2.8, 4.1, 1.3],\n",
              "       [3.3, 6. , 2.5],\n",
              "       [2.7, 5.1, 1.9],\n",
              "       [3. , 5.9, 2.1],\n",
              "       [2.9, 5.6, 1.8],\n",
              "       [3. , 5.8, 2.2],\n",
              "       [3. , 6.6, 2.1],\n",
              "       [2.5, 4.5, 1.7],\n",
              "       [2.9, 6.3, 1.8],\n",
              "       [2.5, 5.8, 1.8],\n",
              "       [3.6, 6.1, 2.5],\n",
              "       [3.2, 5.1, 2. ],\n",
              "       [2.7, 5.3, 1.9],\n",
              "       [3. , 5.5, 2.1],\n",
              "       [2.5, 5. , 2. ],\n",
              "       [2.8, 5.1, 2.4],\n",
              "       [3.2, 5.3, 2.3],\n",
              "       [3. , 5.5, 1.8],\n",
              "       [3.8, 6.7, 2.2],\n",
              "       [2.6, 6.9, 2.3],\n",
              "       [2.2, 5. , 1.5],\n",
              "       [3.2, 5.7, 2.3],\n",
              "       [2.8, 4.9, 2. ],\n",
              "       [2.8, 6.7, 2. ],\n",
              "       [2.7, 4.9, 1.8],\n",
              "       [3.3, 5.7, 2.1],\n",
              "       [3.2, 6. , 1.8],\n",
              "       [2.8, 4.8, 1.8],\n",
              "       [3. , 4.9, 1.8],\n",
              "       [2.8, 5.6, 2.1],\n",
              "       [3. , 5.8, 1.6],\n",
              "       [2.8, 6.1, 1.9],\n",
              "       [3.8, 6.4, 2. ],\n",
              "       [2.8, 5.6, 2.2],\n",
              "       [2.8, 5.1, 1.5],\n",
              "       [2.6, 5.6, 1.4],\n",
              "       [3. , 6.1, 2.3],\n",
              "       [3.4, 5.6, 2.4],\n",
              "       [3.1, 5.5, 1.8],\n",
              "       [3. , 4.8, 1.8],\n",
              "       [3.1, 5.4, 2.1],\n",
              "       [3.1, 5.6, 2.4],\n",
              "       [3.1, 5.1, 2.3],\n",
              "       [2.7, 5.1, 1.9],\n",
              "       [3.2, 5.9, 2.3],\n",
              "       [3.3, 5.7, 2.5],\n",
              "       [3. , 5.2, 2.3],\n",
              "       [2.5, 5. , 1.9],\n",
              "       [3. , 5.2, 2. ],\n",
              "       [3.4, 5.4, 2.3],\n",
              "       [3. , 5.1, 1.8]])"
            ]
          },
          "metadata": {
            "tags": []
          },
          "execution_count": 11
        }
      ]
    },
    {
      "cell_type": "code",
      "metadata": {
        "id": "XwCaeWe8UXzV"
      },
      "source": [
        "from sklearn.model_selection import train_test_split\n",
        "x_train, x_test, y_train, y_test = train_test_split(x,y,test_size=0.2)"
      ],
      "execution_count": 12,
      "outputs": []
    },
    {
      "cell_type": "code",
      "metadata": {
        "colab": {
          "base_uri": "https://localhost:8080/"
        },
        "id": "ysbYddH5Uaol",
        "outputId": "245220f2-ce95-4fbf-ba41-e96ae9ab4fd9"
      },
      "source": [
        "from sklearn.linear_model import LogisticRegression\n",
        "logmodel = LogisticRegression()\n",
        "logmodel.fit(x_train,y_train)"
      ],
      "execution_count": 13,
      "outputs": [
        {
          "output_type": "execute_result",
          "data": {
            "text/plain": [
              "LogisticRegression(C=1.0, class_weight=None, dual=False, fit_intercept=True,\n",
              "                   intercept_scaling=1, l1_ratio=None, max_iter=100,\n",
              "                   multi_class='auto', n_jobs=None, penalty='l2',\n",
              "                   random_state=None, solver='lbfgs', tol=0.0001, verbose=0,\n",
              "                   warm_start=False)"
            ]
          },
          "metadata": {
            "tags": []
          },
          "execution_count": 13
        }
      ]
    },
    {
      "cell_type": "code",
      "metadata": {
        "id": "A5EDZHQNUdD5"
      },
      "source": [
        "y_pred = logmodel.predict(x_test)"
      ],
      "execution_count": 14,
      "outputs": []
    },
    {
      "cell_type": "code",
      "metadata": {
        "colab": {
          "base_uri": "https://localhost:8080/"
        },
        "id": "iSyZMtTRUe5T",
        "outputId": "ddde09de-630f-4535-831e-fe3e704b17d7"
      },
      "source": [
        "y_pred"
      ],
      "execution_count": 15,
      "outputs": [
        {
          "output_type": "execute_result",
          "data": {
            "text/plain": [
              "array([1, 2, 1, 0, 0, 0, 2, 1, 2, 2, 1, 0, 2, 1, 0, 2, 2, 0, 2, 0, 1, 2,\n",
              "       2, 0, 2, 0, 0, 0, 2, 0])"
            ]
          },
          "metadata": {
            "tags": []
          },
          "execution_count": 15
        }
      ]
    },
    {
      "cell_type": "code",
      "metadata": {
        "colab": {
          "base_uri": "https://localhost:8080/"
        },
        "id": "5YfyOWnvUgXq",
        "outputId": "15f8a088-3152-4ee6-d4d4-fde392006364"
      },
      "source": [
        "y_test"
      ],
      "execution_count": 16,
      "outputs": [
        {
          "output_type": "execute_result",
          "data": {
            "text/plain": [
              "array([1, 2, 1, 0, 0, 0, 2, 1, 1, 2, 1, 0, 2, 1, 0, 1, 2, 0, 2, 0, 1, 2,\n",
              "       2, 0, 2, 0, 0, 0, 2, 0])"
            ]
          },
          "metadata": {
            "tags": []
          },
          "execution_count": 16
        }
      ]
    },
    {
      "cell_type": "code",
      "metadata": {
        "colab": {
          "base_uri": "https://localhost:8080/"
        },
        "id": "94yhpMnTUiIl",
        "outputId": "431747d5-0ff6-4a0b-d26b-cb6b5853d075"
      },
      "source": [
        "from sklearn.metrics import confusion_matrix\n",
        "confusion_matrix(y_test, y_pred)"
      ],
      "execution_count": 17,
      "outputs": [
        {
          "output_type": "execute_result",
          "data": {
            "text/plain": [
              "array([[12,  0,  0],\n",
              "       [ 0,  6,  2],\n",
              "       [ 0,  0, 10]])"
            ]
          },
          "metadata": {
            "tags": []
          },
          "execution_count": 17
        }
      ]
    },
    {
      "cell_type": "code",
      "metadata": {
        "colab": {
          "base_uri": "https://localhost:8080/"
        },
        "id": "Y5EG94h3UkRB",
        "outputId": "bdfd27b3-c7f0-4829-db4f-557c14498010"
      },
      "source": [
        "27/30"
      ],
      "execution_count": 18,
      "outputs": [
        {
          "output_type": "execute_result",
          "data": {
            "text/plain": [
              "0.9"
            ]
          },
          "metadata": {
            "tags": []
          },
          "execution_count": 18
        }
      ]
    },
    {
      "cell_type": "code",
      "metadata": {
        "colab": {
          "base_uri": "https://localhost:8080/"
        },
        "id": "tKSJ5Aq2Ul1i",
        "outputId": "d0ba3d16-3736-4079-c8eb-177324f2ed7e"
      },
      "source": [
        "from sklearn.neighbors import KNeighborsClassifier\n",
        "classifier_knn = KNeighborsClassifier(n_neighbors = 5, metric = 'minkowski', p=2)\n",
        "classifier_knn.fit(x_train, y_train)"
      ],
      "execution_count": 19,
      "outputs": [
        {
          "output_type": "execute_result",
          "data": {
            "text/plain": [
              "KNeighborsClassifier(algorithm='auto', leaf_size=30, metric='minkowski',\n",
              "                     metric_params=None, n_jobs=None, n_neighbors=5, p=2,\n",
              "                     weights='uniform')"
            ]
          },
          "metadata": {
            "tags": []
          },
          "execution_count": 19
        }
      ]
    },
    {
      "cell_type": "code",
      "metadata": {
        "id": "70ZuO0vJUoKr"
      },
      "source": [
        "y_pred = classifier_knn.predict(x_test)"
      ],
      "execution_count": 20,
      "outputs": []
    },
    {
      "cell_type": "code",
      "metadata": {
        "colab": {
          "base_uri": "https://localhost:8080/"
        },
        "id": "i15FNhfqUpxp",
        "outputId": "c51d9fa3-4e3e-4655-986e-0f70657568c8"
      },
      "source": [
        "confusion_matrix(y_test,y_pred)"
      ],
      "execution_count": 21,
      "outputs": [
        {
          "output_type": "execute_result",
          "data": {
            "text/plain": [
              "array([[12,  0,  0],\n",
              "       [ 0,  6,  2],\n",
              "       [ 0,  1,  9]])"
            ]
          },
          "metadata": {
            "tags": []
          },
          "execution_count": 21
        }
      ]
    },
    {
      "cell_type": "code",
      "metadata": {
        "colab": {
          "base_uri": "https://localhost:8080/"
        },
        "id": "qH56r1kYUrVD",
        "outputId": "49f828ea-d6c1-4bcf-d3aa-ae96c1e8c1db"
      },
      "source": [
        "28/30"
      ],
      "execution_count": 22,
      "outputs": [
        {
          "output_type": "execute_result",
          "data": {
            "text/plain": [
              "0.9333333333333333"
            ]
          },
          "metadata": {
            "tags": []
          },
          "execution_count": 22
        }
      ]
    },
    {
      "cell_type": "code",
      "metadata": {
        "colab": {
          "base_uri": "https://localhost:8080/"
        },
        "id": "YiwBA3gnUsxu",
        "outputId": "1885cd83-176d-4e70-a783-cf252095dcba"
      },
      "source": [
        "\n",
        "from sklearn.naive_bayes import GaussianNB\n",
        "classifier_nb = GaussianNB()\n",
        "classifier_nb.fit(x_train,y_train)"
      ],
      "execution_count": 23,
      "outputs": [
        {
          "output_type": "execute_result",
          "data": {
            "text/plain": [
              "GaussianNB(priors=None, var_smoothing=1e-09)"
            ]
          },
          "metadata": {
            "tags": []
          },
          "execution_count": 23
        }
      ]
    },
    {
      "cell_type": "code",
      "metadata": {
        "id": "5pmwLlAEUucr"
      },
      "source": [
        "y_pred = classifier_nb.predict(x_test)"
      ],
      "execution_count": 24,
      "outputs": []
    },
    {
      "cell_type": "code",
      "metadata": {
        "colab": {
          "base_uri": "https://localhost:8080/"
        },
        "id": "clmsnNfhUwCI",
        "outputId": "ae5be623-db04-48b5-fbb6-ae1840c8174c"
      },
      "source": [
        "\n",
        "confusion_matrix(y_test,y_pred)"
      ],
      "execution_count": 25,
      "outputs": [
        {
          "output_type": "execute_result",
          "data": {
            "text/plain": [
              "array([[12,  0,  0],\n",
              "       [ 0,  6,  2],\n",
              "       [ 0,  1,  9]])"
            ]
          },
          "metadata": {
            "tags": []
          },
          "execution_count": 25
        }
      ]
    },
    {
      "cell_type": "code",
      "metadata": {
        "colab": {
          "base_uri": "https://localhost:8080/"
        },
        "id": "LJqM0WZwUxjK",
        "outputId": "faf76ca6-6e2c-43b9-f32b-7bf6a570a09c"
      },
      "source": [
        "\n",
        "from sklearn.tree import DecisionTreeClassifier\n",
        "classifier_dt = DecisionTreeClassifier(criterion = 'entropy')\n",
        "classifier_dt.fit(x_train,y_train)"
      ],
      "execution_count": 26,
      "outputs": [
        {
          "output_type": "execute_result",
          "data": {
            "text/plain": [
              "DecisionTreeClassifier(ccp_alpha=0.0, class_weight=None, criterion='entropy',\n",
              "                       max_depth=None, max_features=None, max_leaf_nodes=None,\n",
              "                       min_impurity_decrease=0.0, min_impurity_split=None,\n",
              "                       min_samples_leaf=1, min_samples_split=2,\n",
              "                       min_weight_fraction_leaf=0.0, presort='deprecated',\n",
              "                       random_state=None, splitter='best')"
            ]
          },
          "metadata": {
            "tags": []
          },
          "execution_count": 26
        }
      ]
    },
    {
      "cell_type": "code",
      "metadata": {
        "id": "3RjpHEeWUzei"
      },
      "source": [
        "y_pred = classifier_dt.predict(x_test)"
      ],
      "execution_count": 27,
      "outputs": []
    },
    {
      "cell_type": "code",
      "metadata": {
        "colab": {
          "base_uri": "https://localhost:8080/"
        },
        "id": "ViSDT58gU1AV",
        "outputId": "4883a329-6e79-4438-e53c-54803b14296e"
      },
      "source": [
        "confusion_matrix(y_test,y_pred)"
      ],
      "execution_count": 28,
      "outputs": [
        {
          "output_type": "execute_result",
          "data": {
            "text/plain": [
              "array([[12,  0,  0],\n",
              "       [ 0,  6,  2],\n",
              "       [ 0,  0, 10]])"
            ]
          },
          "metadata": {
            "tags": []
          },
          "execution_count": 28
        }
      ]
    },
    {
      "cell_type": "code",
      "metadata": {
        "id": "Zk7-8sZLU2kD"
      },
      "source": [
        ""
      ],
      "execution_count": null,
      "outputs": []
    }
  ]
}